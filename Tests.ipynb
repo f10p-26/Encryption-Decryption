{
 "cells": [
  {
   "cell_type": "markdown",
   "metadata": {},
   "source": [
    "# Encrypted Email\n",
    "## For this project I explored the process of encryption and decryption and sending emails using python. For this project I used the method of Caesar Cipher and shifted the character by number 11. "
   ]
  },
  {
   "cell_type": "code",
   "execution_count": 1,
   "metadata": {},
   "outputs": [
    {
     "name": "stdout",
     "output_type": "stream",
     "text": [
      "\n",
      "Enter 1 to Encrypt or 2 to Decrypt:\n",
      ">>2\n",
      "\n",
      "Enter the message to decrypt:\n",
      ">>8d\\h\u0015&-\u0015^h\u0015a^i\n",
      "Cogs 18 is lit\n"
     ]
    }
   ],
   "source": [
    "final = \"\"\n",
    "option = input(\"\\nEnter 1 to Encrypt or 2 to Decrypt:\\n>>\") #For Custom Encoding\n",
    "if option == \"1\":\n",
    "    msg = input(\"\\nEnter the message to encrypt:\\n>>\") #encoding\n",
    "    for i in range(0, len(msg)):\n",
    "        final = final + chr(ord(msg[i]) - 11)\n",
    "    print(final)\n",
    "elif option == \"2\": #decoding\n",
    "    msg = input(\"\\nEnter the message to decrypt:\\n>>\")\n",
    "    for i in range(0, len(msg)):\n",
    "        final = final + chr(ord(msg[i]) + 11)    \n",
    "    print(final)\n",
    "else:\n",
    "    print(\"Please use number 1 or 2 only\")"
   ]
  },
  {
   "cell_type": "code",
   "execution_count": 3,
   "metadata": {},
   "outputs": [],
   "source": [
    "assert isinstance(final, str)"
   ]
  },
  {
   "cell_type": "markdown",
   "metadata": {},
   "source": [
    "### For the purpose of this course I made a mock email to use it to email individuals. For user friendly reason, I added the feature where it would ask the user to specify the email. \n",
    "### The email is: f343p12@gmail.com\n",
    "### password: Cogs18isAwes0me"
   ]
  },
  {
   "cell_type": "code",
   "execution_count": null,
   "metadata": {},
   "outputs": [],
   "source": [
    "import smtplib #Sending the encoded message\n",
    "s = smtplib.SMTP(\"smtp.gmail.com\", 587)\n",
    "s.starttls()\n",
    "s.login(\"f343p12@gmail.com\", \"Cogs18isAwes0me\")\n",
    "receiver = input(\"/nEnter receiver's email address:\\n>>\")\n",
    "s.sendmail(\"f343p12@gmail.com\", receiver, final)\n",
    "s.quit\n",
    "\n",
    "print(\"Email sent\")"
   ]
  },
  {
   "cell_type": "markdown",
   "metadata": {},
   "source": [
    "### For the receiver to decode the message, they have to use the following function. This is just for the receiver in order to decode the message"
   ]
  },
  {
   "cell_type": "code",
   "execution_count": 2,
   "metadata": {},
   "outputs": [
    {
     "name": "stdout",
     "output_type": "stream",
     "text": [
      "\n",
      "Enter your Encrypted Message here: \n",
      ">>8d\\h\u0015&-\u0015^h\u0015a^i\n",
      " Cogs 18 is lit\n"
     ]
    }
   ],
   "source": [
    "message = input(\"\\nEnter your Encrypted Message here: \\n>>\") # decoding the message\n",
    "msg = ' '\n",
    "\n",
    "for ord_1 in message:\n",
    "    ind = ord(ord_1) + 11\n",
    "    ord_2 = chr(ind)\n",
    "    msg = msg + ord_2\n",
    "\n",
    "\n",
    "print(msg)"
   ]
  },
  {
   "cell_type": "code",
   "execution_count": null,
   "metadata": {},
   "outputs": [],
   "source": [
    "assert isinstance(final, str)"
   ]
  },
  {
   "cell_type": "markdown",
   "metadata": {},
   "source": [
    "### While I explored the probability of reading emails using a code, I saw related projects online and they appeared to be sophisticated and beyond the scope of the lessons of this course. To compensate for the email aspect, I created a separate code where the receiver can decode the encoded message"
   ]
  }
 ],
 "metadata": {
  "kernelspec": {
   "display_name": "Python 3",
   "language": "python",
   "name": "python3"
  },
  "language_info": {
   "codemirror_mode": {
    "name": "ipython",
    "version": 3
   },
   "file_extension": ".py",
   "mimetype": "text/x-python",
   "name": "python",
   "nbconvert_exporter": "python",
   "pygments_lexer": "ipython3",
   "version": "3.7.3"
  }
 },
 "nbformat": 4,
 "nbformat_minor": 2
}
